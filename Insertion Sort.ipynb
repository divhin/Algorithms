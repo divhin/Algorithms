{
 "cells": [
  {
   "cell_type": "markdown",
   "metadata": {},
   "source": [
    "# INSERTION SORT"
   ]
  },
  {
   "cell_type": "code",
   "execution_count": 31,
   "metadata": {
    "collapsed": true
   },
   "outputs": [],
   "source": [
    "A=[1,9,8,3,5,2]"
   ]
  },
  {
   "cell_type": "code",
   "execution_count": 32,
   "metadata": {},
   "outputs": [
    {
     "name": "stdout",
     "output_type": "stream",
     "text": [
      "key 9\n",
      "j is 0\n",
      "A 1 is [1, 9, 8, 3, 5, 2]\n",
      "key 8\n",
      "j is 1\n",
      "A 2 is [1, 8, 9, 3, 5, 2]\n",
      "key 3\n",
      "j is 2\n",
      "A 3 is [1, 3, 8, 9, 5, 2]\n",
      "key 5\n",
      "j is 3\n",
      "A 4 is [1, 3, 5, 8, 9, 2]\n",
      "key 2\n",
      "j is 4\n",
      "A 5 is [1, 2, 3, 5, 8, 9]\n",
      "[1, 2, 3, 5, 8, 9]\n"
     ]
    }
   ],
   "source": [
    "length=len(A)\n",
    "\n",
    "for i in range(1,length):\n",
    "    key=A[i]\n",
    "    print \"key\",key\n",
    "    j=i-1\n",
    "    print \"j is\",j\n",
    "    while(j>0 and key<A[j]):        \n",
    "            A[j+1]=A[j]\n",
    "            j-=1\n",
    "        \n",
    "    A[j+1]=key\n",
    "            \n",
    "    print \"A\",i,\"is\",A\n",
    "    \n",
    "print A"
   ]
  },
  {
   "cell_type": "code",
   "execution_count": null,
   "metadata": {
    "collapsed": true
   },
   "outputs": [],
   "source": []
  }
 ],
 "metadata": {
  "kernelspec": {
   "display_name": "Python 2",
   "language": "python",
   "name": "python2"
  },
  "language_info": {
   "codemirror_mode": {
    "name": "ipython",
    "version": 2
   },
   "file_extension": ".py",
   "mimetype": "text/x-python",
   "name": "python",
   "nbconvert_exporter": "python",
   "pygments_lexer": "ipython2",
   "version": "2.7.14"
  }
 },
 "nbformat": 4,
 "nbformat_minor": 2
}
