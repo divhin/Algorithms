{
 "cells": [
  {
   "cell_type": "markdown",
   "metadata": {},
   "source": [
    "# Merge Sort"
   ]
  },
  {
   "cell_type": "code",
   "execution_count": 76,
   "metadata": {
    "collapsed": true
   },
   "outputs": [],
   "source": [
    "A=[2,5,1,7,4,-1]"
   ]
  },
  {
   "cell_type": "code",
   "execution_count": 77,
   "metadata": {
    "collapsed": true
   },
   "outputs": [],
   "source": [
    "def mergesort(A,left,right):\n",
    "    if left==right:\n",
    "        return\n",
    "    mid=left +(right - left)/2\n",
    "    mergesort(A,left,mid)\n",
    "    mergesort(A,mid+1,right)\n",
    "    merge(A,left,mid,right)"
   ]
  },
  {
   "cell_type": "code",
   "execution_count": 78,
   "metadata": {},
   "outputs": [],
   "source": [
    "def merge(A,left,mid,right):\n",
    "    output=[]\n",
    "    leftarray=A[left:mid+1]\n",
    "    rightarray=A[mid+1:right+1]\n",
    "    p1,p2=left,mid+1\n",
    "    while(p1 <= mid and p2<= right):\n",
    "\n",
    "        if A[p1]<A[p2]:\n",
    "            output.append(A[p1])\n",
    "            p1+=1\n",
    "        else:\n",
    "            output.append(A[p2])\n",
    "            p2+=1\n",
    "    if p1>mid:\n",
    "        output.extend(A[p2:right+1])\n",
    "    else:\n",
    "        output.extend(A[p1:mid+1])\n",
    "    A[left:right+1]= output\n",
    "    print A"
   ]
  },
  {
   "cell_type": "code",
   "execution_count": 79,
   "metadata": {},
   "outputs": [
    {
     "name": "stdout",
     "output_type": "stream",
     "text": [
      "[2, 5, 1, 7, 4, -1]\n",
      "[1, 2, 5, 7, 4, -1]\n",
      "[1, 2, 5, 4, 7, -1]\n",
      "[1, 2, 5, -1, 4, 7]\n",
      "[-1, 1, 2, 4, 5, 7]\n"
     ]
    }
   ],
   "source": [
    "mergesort(A,0,len(A)-1)"
   ]
  },
  {
   "cell_type": "code",
   "execution_count": null,
   "metadata": {
    "collapsed": true
   },
   "outputs": [],
   "source": []
  }
 ],
 "metadata": {
  "kernelspec": {
   "display_name": "Python 2",
   "language": "python",
   "name": "python2"
  },
  "language_info": {
   "codemirror_mode": {
    "name": "ipython",
    "version": 2
   },
   "file_extension": ".py",
   "mimetype": "text/x-python",
   "name": "python",
   "nbconvert_exporter": "python",
   "pygments_lexer": "ipython2",
   "version": "2.7.14"
  }
 },
 "nbformat": 4,
 "nbformat_minor": 2
}
