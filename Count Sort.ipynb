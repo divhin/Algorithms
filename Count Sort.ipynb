{
 "cells": [
  {
   "cell_type": "markdown",
   "metadata": {},
   "source": [
    "# COUNTING SORT"
   ]
  },
  {
   "cell_type": "code",
   "execution_count": 1,
   "metadata": {
    "collapsed": true
   },
   "outputs": [],
   "source": [
    "a = [1,7,6,3,2]"
   ]
  },
  {
   "cell_type": "code",
   "execution_count": 8,
   "metadata": {},
   "outputs": [
    {
     "name": "stdout",
     "output_type": "stream",
     "text": [
      "[1, 2, 3, 6, 7]\n"
     ]
    }
   ],
   "source": [
    "amax=max(a)\n",
    "amin=min(a)\n",
    "counter_values=[0 for i in range(amin,amax+1)]\n",
    "counter_keys=[i for i in range(amin,amax+1)]\n",
    "cdict=dict(zip(counter_keys,counter_values))\n",
    "output=[0 for i in range(len(a))]\n",
    "\n",
    "for i in a:\n",
    "    cdict[i]+=1\n",
    "\n",
    "for j in range(amin+1,amax+1):\n",
    "    cdict[j]+=cdict[j-1]\n",
    "    \n",
    "for k in a:\n",
    "    output[cdict[k]-1] = k\n",
    "    cdict[k]-=1\n",
    "    \n",
    "print output\n",
    "    "
   ]
  }
 ],
 "metadata": {
  "kernelspec": {
   "display_name": "Python 2",
   "language": "python",
   "name": "python2"
  },
  "language_info": {
   "codemirror_mode": {
    "name": "ipython",
    "version": 2
   },
   "file_extension": ".py",
   "mimetype": "text/x-python",
   "name": "python",
   "nbconvert_exporter": "python",
   "pygments_lexer": "ipython2",
   "version": "2.7.14"
  }
 },
 "nbformat": 4,
 "nbformat_minor": 2
}
